{
 "cells": [
  {
   "cell_type": "markdown",
   "metadata": {},
   "source": [
    "# Utilizing a GPU with PlaidML Keras Backend on MacOS\n",
    "\n",
    "Herein lies my experience trying to get a functional DL stack working on MacOS Catalina. I used with [this](https://towardsdatascience.com/gpu-accelerated-machine-learning-on-macos-48d53ef1b545) guide."
   ]
  },
  {
   "cell_type": "markdown",
   "metadata": {},
   "source": [
    "## Installing a CUDA-Alternative Backend for Keras\n",
    "\n",
    "The guide suggests that using [PlaidML](https://github.com/plaidml/plaidml) as the CUDA-alternative computational backend. So we will begin by making a new `conda` environment for doing deep learning:\n",
    "```bash\n",
    "conda create --name DL python=3\n",
    "conda activate DL\n",
    "pip install plaidml-keras\n",
    "plaidml-setup\n",
    "```\n",
    "    \n",
    "Then, as in the guide, you should see something like this:\n",
    "```terminal\n",
    "PlaidML Setup (0.7.0)\n",
    "\n",
    "Thanks for using PlaidML!\n",
    "\n",
    "The feedback we have received from our users indicates an ever-increasing need\n",
    "for performance, programmability, and portability. During the past few months,\n",
    "we have been restructuring PlaidML to address those needs.  To make all the\n",
    "changes we need to make while supporting our current user base, all development\n",
    "of PlaidML has moved to a branch — plaidml-v1. We will continue to maintain and\n",
    "support the master branch of PlaidML and the stable 0.7.0 release.\n",
    "\n",
    "Read more here: https://github.com/plaidml/plaidml\n",
    "\n",
    "Some Notes:\n",
    "  * Bugs and other issues: https://github.com/plaidml/plaidml/issues\n",
    "  * Questions: https://stackoverflow.com/questions/tagged/plaidml\n",
    "  * Say hello: https://groups.google.com/forum/#!forum/plaidml-dev\n",
    "  * PlaidML is licensed under the Apache License 2.0\n",
    "\n",
    "\n",
    "Default Config Devices:\n",
    "   llvm_cpu.0 : CPU (via LLVM)\n",
    "   metal_intel(r)_uhd_graphics_630.0 : Intel(R) UHD Graphics 630 (Metal)\n",
    "   metal_amd_radeon_pro_5500m.0 : AMD Radeon Pro 5500M (Metal)\n",
    "\n",
    "Experimental Config Devices:\n",
    "   llvm_cpu.0 : CPU (via LLVM)\n",
    "   opencl_amd_radeon_pro_5500m_compute_engine.0 : AMD AMD Radeon Pro 5500M Compute Engine (OpenCL)\n",
    "   opencl_intel_uhd_graphics_630.0 : Intel Inc. Intel(R) UHD Graphics 630 (OpenCL)\n",
    "   metal_intel(r)_uhd_graphics_630.0 : Intel(R) UHD Graphics 630 (Metal)\n",
    "   metal_amd_radeon_pro_5500m.0 : AMD Radeon Pro 5500M (Metal)\n",
    "\n",
    "Using experimental devices can cause poor performance, crashes, and other nastiness.\n",
    "\n",
    "Enable experimental device support? (y,n)[n]:n\n",
    "\n",
    "Multiple devices detected (You can override by setting PLAIDML_DEVICE_IDS).\n",
    "Please choose a default device:\n",
    "\n",
    "   1 : llvm_cpu.0\n",
    "   2 : metal_intel(r)_uhd_graphics_630.0\n",
    "   3 : metal_amd_radeon_pro_5500m.0\n",
    "\n",
    "Default device? (1,2,3)[1]:3\n",
    "\n",
    "Selected device:\n",
    "    metal_amd_radeon_pro_5500m.0\n",
    "\n",
    "Almost done. Multiplying some matrices...\n",
    "Tile code:\n",
    "  function (B[X,Z], C[Z,Y]) -> (A) { A[x,y : X,Y] = +(B[x,z] * C[z,y]); }\n",
    "Whew. That worked.\n",
    "\n",
    "Save settings to /Users/nicholasrenninger/.plaidml? (y,n)[y]:y\n",
    "Success!\n",
    "```\n",
    "    \n",
    "**Warning from the guide:**\n",
    "\n",
    "*This library supports many but not all Keras layers. If your architecture involves only Dense, LSTM, CNN and Dropout layers, you’re certainly good, otherwise check the documentation.*\n",
    "\n",
    "Now, we just pre-pend the following lines of code to your program to activate the PlaidML backend:\n",
    "```python\n",
    "import os\n",
    "os.environ[\"KERAS_BACKEND\"] = \"plaidml.keras.backend\"\n",
    "```\n",
    "\n",
    "Now, to test all of this, we try the following [example](https://github.com/keras-team/keras/blob/master/examples/mnist_cnn.py) from the Keras documentation:"
   ]
  },
  {
   "cell_type": "code",
   "execution_count": 6,
   "metadata": {
    "ExecuteTime": {
     "end_time": "2020-02-29T04:43:37.470951Z",
     "start_time": "2020-02-29T04:43:37.468361Z"
    }
   },
   "outputs": [],
   "source": [
    "import os\n",
    "from sys import platform\n",
    "\n",
    "osx_platform_name = \"darwin\"\n",
    "if platform == osx_platform_name:\n",
    "    os.environ[\"KERAS_BACKEND\"] = \"plaidml.keras.backend\""
   ]
  },
  {
   "cell_type": "code",
   "execution_count": 7,
   "metadata": {
    "ExecuteTime": {
     "end_time": "2020-02-29T04:43:58.739121Z",
     "start_time": "2020-02-29T04:43:58.313565Z"
    }
   },
   "outputs": [
    {
     "name": "stdout",
     "output_type": "stream",
     "text": [
      "x_train shape: (60000, 28, 28, 1)\n",
      "60000 train samples\n",
      "10000 test samples\n"
     ]
    }
   ],
   "source": [
    "import keras\n",
    "from keras.datasets import mnist\n",
    "from keras.models import Sequential\n",
    "from keras.layers import Dense, Dropout, Flatten\n",
    "from keras.layers import Conv2D, MaxPooling2D\n",
    "from keras import backend as K\n",
    "\n",
    "\n",
    "batch_size = 128\n",
    "num_classes = 10\n",
    "epochs = 12\n",
    "\n",
    "# input image dimensions\n",
    "img_rows, img_cols = 28, 28\n",
    "\n",
    "# the data, split between train and test sets\n",
    "(x_train, y_train), (x_test, y_test) = mnist.load_data()\n",
    "\n",
    "if K.image_data_format() == 'channels_first':\n",
    "    x_train = x_train.reshape(x_train.shape[0], 1, img_rows, img_cols)\n",
    "    x_test = x_test.reshape(x_test.shape[0], 1, img_rows, img_cols)\n",
    "    input_shape = (1, img_rows, img_cols)\n",
    "else:\n",
    "    x_train = x_train.reshape(x_train.shape[0], img_rows, img_cols, 1)\n",
    "    x_test = x_test.reshape(x_test.shape[0], img_rows, img_cols, 1)\n",
    "    input_shape = (img_rows, img_cols, 1)\n",
    "\n",
    "x_train = x_train.astype('float32')\n",
    "x_test = x_test.astype('float32')\n",
    "x_train /= 255\n",
    "x_test /= 255\n",
    "print('x_train shape:', x_train.shape)\n",
    "print(x_train.shape[0], 'train samples')\n",
    "print(x_test.shape[0], 'test samples')\n",
    "\n",
    "# convert class vectors to binary class matrices\n",
    "y_train = keras.utils.to_categorical(y_train, num_classes)\n",
    "y_test = keras.utils.to_categorical(y_test, num_classes)\n",
    "\n",
    "# define the CNN model\n",
    "model = Sequential()\n",
    "model.add(Conv2D(32, kernel_size=(3, 3),\n",
    "                 activation='relu',\n",
    "                 input_shape=input_shape))\n",
    "model.add(Conv2D(64, (3, 3), activation='relu'))\n",
    "model.add(MaxPooling2D(pool_size=(2, 2)))\n",
    "model.add(Dropout(0.25))\n",
    "model.add(Flatten())\n",
    "model.add(Dense(128, activation='relu'))\n",
    "model.add(Dropout(0.5))\n",
    "model.add(Dense(num_classes, activation='softmax'))\n",
    "\n",
    "model.compile(loss=keras.losses.categorical_crossentropy,\n",
    "              optimizer=keras.optimizers.Adadelta(),\n",
    "              metrics=['accuracy'])"
   ]
  },
  {
   "cell_type": "code",
   "execution_count": 9,
   "metadata": {
    "ExecuteTime": {
     "end_time": "2020-02-29T04:46:39.599227Z",
     "start_time": "2020-02-29T04:44:23.326367Z"
    }
   },
   "outputs": [
    {
     "name": "stdout",
     "output_type": "stream",
     "text": [
      "Train on 60000 samples, validate on 10000 samples\n",
      "Epoch 1/12\n",
      "60000/60000 [==============================] - 15s 246us/step - loss: 0.2666 - acc: 0.9177 - val_loss: 0.0570 - val_acc: 0.9815\n",
      "Epoch 2/12\n",
      "60000/60000 [==============================] - 11s 189us/step - loss: 0.0880 - acc: 0.9741 - val_loss: 0.0410 - val_acc: 0.9864\n",
      "Epoch 3/12\n",
      "60000/60000 [==============================] - 11s 189us/step - loss: 0.0665 - acc: 0.9808 - val_loss: 0.0322 - val_acc: 0.9893\n",
      "Epoch 4/12\n",
      "60000/60000 [==============================] - 11s 182us/step - loss: 0.0534 - acc: 0.9845 - val_loss: 0.0308 - val_acc: 0.9898\n",
      "Epoch 5/12\n",
      "60000/60000 [==============================] - 11s 182us/step - loss: 0.0466 - acc: 0.9856 - val_loss: 0.0282 - val_acc: 0.9899\n",
      "Epoch 6/12\n",
      "60000/60000 [==============================] - 11s 182us/step - loss: 0.0425 - acc: 0.9869 - val_loss: 0.0290 - val_acc: 0.9903\n",
      "Epoch 7/12\n",
      "60000/60000 [==============================] - 11s 182us/step - loss: 0.0377 - acc: 0.9882 - val_loss: 0.0259 - val_acc: 0.9914\n",
      "Epoch 8/12\n",
      "60000/60000 [==============================] - 11s 183us/step - loss: 0.0342 - acc: 0.9893 - val_loss: 0.0240 - val_acc: 0.9924\n",
      "Epoch 9/12\n",
      "60000/60000 [==============================] - 11s 184us/step - loss: 0.0287 - acc: 0.9908 - val_loss: 0.0247 - val_acc: 0.9922\n",
      "Epoch 10/12\n",
      "60000/60000 [==============================] - 11s 184us/step - loss: 0.0280 - acc: 0.9917 - val_loss: 0.0256 - val_acc: 0.9921\n",
      "Epoch 11/12\n",
      "60000/60000 [==============================] - 11s 183us/step - loss: 0.0255 - acc: 0.9921 - val_loss: 0.0243 - val_acc: 0.9922\n",
      "Epoch 12/12\n",
      "60000/60000 [==============================] - 11s 184us/step - loss: 0.0247 - acc: 0.9922 - val_loss: 0.0250 - val_acc: 0.9914\n"
     ]
    },
    {
     "data": {
      "text/plain": [
       "<keras.callbacks.History at 0x13e2d5f40>"
      ]
     },
     "execution_count": 9,
     "metadata": {},
     "output_type": "execute_result"
    }
   ],
   "source": [
    "model.fit(x_train, y_train,\n",
    "          batch_size=batch_size,\n",
    "          epochs=epochs,\n",
    "          verbose=1,\n",
    "          validation_data=(x_test, y_test))"
   ]
  },
  {
   "cell_type": "code",
   "execution_count": 11,
   "metadata": {
    "ExecuteTime": {
     "end_time": "2020-02-29T04:54:07.872325Z",
     "start_time": "2020-02-29T04:54:06.405648Z"
    }
   },
   "outputs": [
    {
     "name": "stdout",
     "output_type": "stream",
     "text": [
      "Test loss: 0.025031466269493104\n",
      "Test accuracy: 0.9914\n"
     ]
    }
   ],
   "source": [
    "score = model.evaluate(x_test, y_test, verbose=0)\n",
    "print('Test loss:', score[0])\n",
    "print('Test accuracy:', score[1])"
   ]
  }
 ],
 "metadata": {
  "kernelspec": {
   "display_name": "Python 3",
   "language": "python",
   "name": "python3"
  },
  "language_info": {
   "codemirror_mode": {
    "name": "ipython",
    "version": 3
   },
   "file_extension": ".py",
   "mimetype": "text/x-python",
   "name": "python",
   "nbconvert_exporter": "python",
   "pygments_lexer": "ipython3",
   "version": "3.8.1"
  },
  "latex_envs": {
   "LaTeX_envs_menu_present": true,
   "autoclose": false,
   "autocomplete": true,
   "bibliofile": "biblio.bib",
   "cite_by": "apalike",
   "current_citInitial": 1,
   "eqLabelWithNumbers": true,
   "eqNumInitial": 1,
   "hotkeys": {
    "equation": "Ctrl-E",
    "itemize": "Ctrl-I"
   },
   "labels_anchors": false,
   "latex_user_defs": false,
   "report_style_numbering": false,
   "user_envs_cfg": false
  },
  "varInspector": {
   "cols": {
    "lenName": 16,
    "lenType": 16,
    "lenVar": 40
   },
   "kernels_config": {
    "python": {
     "delete_cmd_postfix": "",
     "delete_cmd_prefix": "del ",
     "library": "var_list.py",
     "varRefreshCmd": "print(var_dic_list())"
    },
    "r": {
     "delete_cmd_postfix": ") ",
     "delete_cmd_prefix": "rm(",
     "library": "var_list.r",
     "varRefreshCmd": "cat(var_dic_list()) "
    }
   },
   "types_to_exclude": [
    "module",
    "function",
    "builtin_function_or_method",
    "instance",
    "_Feature"
   ],
   "window_display": false
  }
 },
 "nbformat": 4,
 "nbformat_minor": 4
}
