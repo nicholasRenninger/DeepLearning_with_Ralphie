{
 "cells": [
  {
   "cell_type": "code",
   "execution_count": 1,
   "metadata": {
    "ExecuteTime": {
     "end_time": "2020-02-29T02:59:31.153902Z",
     "start_time": "2020-02-29T02:59:31.150103Z"
    },
    "colab": {},
    "colab_type": "code",
    "id": "g0waNOG9ExLn"
   },
   "outputs": [
    {
     "name": "stderr",
     "output_type": "stream",
     "text": [
      "UsageError: Line magic function `%tensorflow_version` not found.\n"
     ]
    }
   ],
   "source": [
    "\n",
    "%tensorflow_version 2.x"
   ]
  },
  {
   "cell_type": "code",
   "execution_count": 0,
   "metadata": {
    "colab": {},
    "colab_type": "code",
    "id": "5zL8RcK3t0oT"
   },
   "outputs": [],
   "source": [
    "%load_ext tensorboard"
   ]
  },
  {
   "cell_type": "code",
   "execution_count": 2,
   "metadata": {
    "ExecuteTime": {
     "end_time": "2020-02-29T02:59:34.803654Z",
     "start_time": "2020-02-29T02:59:34.717060Z"
    },
    "colab": {},
    "colab_type": "code",
    "id": "KIeRpZiyDs-4"
   },
   "outputs": [
    {
     "ename": "ModuleNotFoundError",
     "evalue": "No module named 'tensorflow'",
     "output_type": "error",
     "traceback": [
      "\u001b[0;31m---------------------------------------------------------------------------\u001b[0m",
      "\u001b[0;31mModuleNotFoundError\u001b[0m                       Traceback (most recent call last)",
      "\u001b[0;32m<ipython-input-2-63a0e724f1a9>\u001b[0m in \u001b[0;36m<module>\u001b[0;34m\u001b[0m\n\u001b[0;32m----> 1\u001b[0;31m \u001b[0;32mimport\u001b[0m \u001b[0mtensorflow\u001b[0m \u001b[0;32mas\u001b[0m \u001b[0mtf\u001b[0m\u001b[0;34m\u001b[0m\u001b[0;34m\u001b[0m\u001b[0m\n\u001b[0m\u001b[1;32m      2\u001b[0m \u001b[0;32mimport\u001b[0m \u001b[0mmatplotlib\u001b[0m\u001b[0;34m.\u001b[0m\u001b[0mpyplot\u001b[0m \u001b[0;32mas\u001b[0m \u001b[0mplt\u001b[0m\u001b[0;34m\u001b[0m\u001b[0;34m\u001b[0m\u001b[0m\n\u001b[1;32m      3\u001b[0m \u001b[0;32mimport\u001b[0m \u001b[0mnumpy\u001b[0m \u001b[0;32mas\u001b[0m \u001b[0mnp\u001b[0m\u001b[0;34m\u001b[0m\u001b[0;34m\u001b[0m\u001b[0m\n\u001b[1;32m      4\u001b[0m \u001b[0;32mfrom\u001b[0m \u001b[0mdatetime\u001b[0m \u001b[0;32mimport\u001b[0m \u001b[0mdatetime\u001b[0m\u001b[0;34m\u001b[0m\u001b[0;34m\u001b[0m\u001b[0m\n",
      "\u001b[0;31mModuleNotFoundError\u001b[0m: No module named 'tensorflow'"
     ]
    }
   ],
   "source": [
    "import tensorflow as tf\n",
    "import matplotlib.pyplot as plt\n",
    "import numpy as np\n",
    "from datetime import datetime"
   ]
  },
  {
   "cell_type": "code",
   "execution_count": 0,
   "metadata": {
    "colab": {},
    "colab_type": "code",
    "id": "VpS5Ebqbq6_t"
   },
   "outputs": [],
   "source": [
    "# Clear any logs from previous runs\n",
    "!rm -rf ./logs/ "
   ]
  },
  {
   "cell_type": "markdown",
   "metadata": {
    "colab_type": "text",
    "id": "3Ry69wbubqtC"
   },
   "source": [
    "# Variables, gradients"
   ]
  },
  {
   "cell_type": "code",
   "execution_count": 0,
   "metadata": {
    "colab": {},
    "colab_type": "code",
    "id": "wMYf0lF_dHrg"
   },
   "outputs": [],
   "source": [
    "x = tf.Variable(initial_value=[1.0, 2.0, 3.0, 4.0])"
   ]
  },
  {
   "cell_type": "code",
   "execution_count": 0,
   "metadata": {
    "colab": {},
    "colab_type": "code",
    "id": "YNmJsxUBdU7c"
   },
   "outputs": [],
   "source": [
    "with tf.GradientTape() as g:\n",
    "  y = tf.reduce_sum(tf.square(x))"
   ]
  },
  {
   "cell_type": "code",
   "execution_count": 0,
   "metadata": {
    "colab": {},
    "colab_type": "code",
    "id": "0uq1yhLkddYr"
   },
   "outputs": [],
   "source": [
    "g.gradient(y, x)"
   ]
  },
  {
   "cell_type": "markdown",
   "metadata": {
    "colab_type": "text",
    "id": "3wF6lCN9dhbM"
   },
   "source": [
    "# CIFAR-10\n",
    "See https://www.cs.toronto.edu/~kriz/cifar.html"
   ]
  },
  {
   "cell_type": "code",
   "execution_count": 0,
   "metadata": {
    "colab": {},
    "colab_type": "code",
    "id": "f7B1B992FC57"
   },
   "outputs": [],
   "source": [
    "(x_train, y_train), (x_test, y_test) = tf.keras.datasets.cifar10.load_data()\n",
    "x_train = tf.cast(x_train, tf.float32) / 255\n",
    "x_test = tf.cast(x_test, tf.float32) / 255\n",
    "y_train = tf.squeeze(tf.cast(y_train, tf.int32))\n",
    "y_test = tf.squeeze(tf.cast(y_test, tf.int32))"
   ]
  },
  {
   "cell_type": "code",
   "execution_count": 0,
   "metadata": {
    "colab": {},
    "colab_type": "code",
    "id": "xq9HWCtLJP_d"
   },
   "outputs": [],
   "source": [
    "labels = [\"airplane\", \"automobile\", \"bird\", \"cat\", \"deer\", \"dog\", \"frog\", \"horse\", \"ship\", \"truck\"]"
   ]
  },
  {
   "cell_type": "code",
   "execution_count": 0,
   "metadata": {
    "cellView": "both",
    "colab": {},
    "colab_type": "code",
    "id": "m9D2GaNsF2S4"
   },
   "outputs": [],
   "source": [
    "img_number =  5102#@param {type:\"integer\"}\n",
    "\n",
    "plt.imshow(np.squeeze(x_train[img_number]))\n",
    "labels[y_train[img_number]]"
   ]
  },
  {
   "cell_type": "markdown",
   "metadata": {
    "colab_type": "text",
    "id": "a6rvrabmJyRA"
   },
   "source": [
    "# Low-level tensorflow without keras"
   ]
  },
  {
   "cell_type": "markdown",
   "metadata": {
    "colab_type": "text",
    "id": "ouA3f2ZGJ2jW"
   },
   "source": [
    "## 2-layer convolutional network / ResNet"
   ]
  },
  {
   "cell_type": "code",
   "execution_count": 0,
   "metadata": {
    "colab": {},
    "colab_type": "code",
    "id": "qwq2QU4vJ8A2"
   },
   "outputs": [],
   "source": [
    "class CifarCNN(tf.Module):\n",
    "    def __init__(self):\n",
    "        initializer = tf.keras.initializers.glorot_normal()\n",
    "        self._filter1 = tf.Variable(initializer([3, 3, 3, 8]))\n",
    "        self._filter2 = tf.Variable(initializer([3, 3, 8, 5]))\n",
    "        self._filter_project = tf.Variable(initializer([1, 1, 8, 5]))\n",
    "        self._fcn_weights = tf.Variable(\n",
    "            initializer([16 * 16 * 5, 10])\n",
    "    )\n",
    "\n",
    "    @tf.function(input_signature=[tf.TensorSpec([None, 32, 32, 3])])\n",
    "    def Infer(self, input_batch):\n",
    "        # input_batch is (batch_size x 32 x 32 x 3)\n",
    "        net = tf.nn.conv2d(input_batch, self._filter1, strides=[1,1], padding=\"SAME\")\n",
    "        net = tf.nn.relu(net)\n",
    "        net = tf.nn.max_pool2d(net, ksize=[2, 2], strides=[2, 2], padding=\"SAME\")\n",
    "        residuals = tf.nn.relu(tf.nn.conv2d(\n",
    "            net, self._filter2, strides=[1,1], padding=\"SAME\"))\n",
    "        net = residuals + tf.nn.conv2d(\n",
    "            net, self._filter_project, strides=[1,1], padding=\"SAME\")\n",
    "        net = tf.reshape(net, [tf.shape(net)[0], -1])\n",
    "        net = tf.matmul(net, self._fcn_weights)\n",
    "    return net\n",
    "\n",
    "    def GetLoss(self, x_batch, y_batch):\n",
    "        losses = tf.nn.sparse_softmax_cross_entropy_with_logits(\n",
    "              tf.squeeze(y_batch),\n",
    "              self.Infer(x_batch))\n",
    "        return tf.reduce_mean(losses)\n",
    "\n",
    "    def Accuracy(self, x, y_true):\n",
    "        logits = self.Infer(x)\n",
    "        return tf.reduce_mean(\n",
    "            tf.cast(tf.math.equal(\n",
    "                tf.cast(tf.math.argmax(logits, 1), y_true.dtype), \n",
    "                y_true), tf.float32))\n",
    "\n",
    "    @tf.function\n",
    "    def MakeStep(self, x_batch, y_batch, optimizer):\n",
    "        with tf.GradientTape() as g:\n",
    "            loss = self.GetLoss(x_batch, y_batch)\n",
    "        g = g.gradient(loss, self.trainable_variables)\n",
    "\n",
    "        # SGD step\n",
    "        optimizer.apply_gradients(zip(g, self.trainable_variables))"
   ]
  },
  {
   "cell_type": "code",
   "execution_count": 0,
   "metadata": {
    "colab": {},
    "colab_type": "code",
    "id": "-RNmVTnQPFCZ"
   },
   "outputs": [],
   "source": [
    "cnn = CifarCNN()"
   ]
  },
  {
   "cell_type": "code",
   "execution_count": 0,
   "metadata": {
    "colab": {},
    "colab_type": "code",
    "id": "DJ8MdSJgXLD1"
   },
   "outputs": [],
   "source": [
    "cnn.Accuracy(x_test, y_test)"
   ]
  },
  {
   "cell_type": "code",
   "execution_count": 0,
   "metadata": {
    "colab": {},
    "colab_type": "code",
    "id": "TIw_syHwVruB"
   },
   "outputs": [],
   "source": [
    "batch_size = 10\n",
    "epochs = 5\n",
    "\n",
    "optimizer = tf.keras.optimizers.Adam()\n",
    "_ = cnn.Infer(x_train[0:10])\n",
    "for j in range(epochs):\n",
    "    print(f\"Epoch {j}: test accuracy {cnn.Accuracy(x_test, y_test)}\")\n",
    "    for i in range(5000):\n",
    "    cnn.MakeStep(\n",
    "        x_train[(i*batch_size):((i+1)*batch_size)],\n",
    "        y_train[(i*batch_size):((i+1)*batch_size)],\n",
    "        optimizer)\n"
   ]
  },
  {
   "cell_type": "markdown",
   "metadata": {
    "colab_type": "text",
    "id": "vj3H1A4YbZgd"
   },
   "source": [
    "# Keras sequential API\n",
    "\n",
    "See https://www.tensorflow.org/api_docs/python/tf/keras/Sequential"
   ]
  },
  {
   "cell_type": "code",
   "execution_count": 0,
   "metadata": {
    "colab": {},
    "colab_type": "code",
    "id": "4W1atdvKgqfl"
   },
   "outputs": [],
   "source": [
    "model = tf.keras.Sequential()\n",
    "model.add(tf.keras.layers.Conv2D(filters=8, kernel_size=3, activation='relu'))\n",
    "model.add(tf.keras.layers.MaxPool2D(strides=2))\n",
    "model.add(tf.keras.layers.Conv2D(filters=5, kernel_size=3, activation='relu'))\n",
    "model.add(tf.keras.layers.Flatten())\n",
    "model.add(tf.keras.layers.Dense(10, activation='softmax'))\n",
    "\n",
    "model.compile(loss=tf.keras.losses.sparse_categorical_crossentropy,\n",
    "              optimizer=tf.keras.optimizers.Adam(),\n",
    "              metrics=['accuracy'])"
   ]
  },
  {
   "cell_type": "code",
   "execution_count": 0,
   "metadata": {
    "colab": {},
    "colab_type": "code",
    "id": "iZ3Jg3o-sV0T"
   },
   "outputs": [],
   "source": [
    "logdir=\"logs/sequential_fit/\" + datetime.now().strftime(\"%Y%m%d-%H%M%S\")\n",
    "tensorboard_callback = tf.keras.callbacks.TensorBoard(log_dir=logdir)"
   ]
  },
  {
   "cell_type": "code",
   "execution_count": 0,
   "metadata": {
    "colab": {},
    "colab_type": "code",
    "id": "aZCqjlNigsmX"
   },
   "outputs": [],
   "source": [
    "model.fit(x_train, \n",
    "          y_train,\n",
    "          batch_size=10,\n",
    "          epochs=3,\n",
    "          verbose=1,\n",
    "          validation_data=(\n",
    "              x_test, \n",
    "              y_test),\n",
    "          callbacks=[tensorboard_callback])"
   ]
  },
  {
   "cell_type": "code",
   "execution_count": 0,
   "metadata": {
    "colab": {},
    "colab_type": "code",
    "id": "02cL7_IEtQHJ"
   },
   "outputs": [],
   "source": [
    "%tensorboard --logdir logs"
   ]
  },
  {
   "cell_type": "markdown",
   "metadata": {
    "colab_type": "text",
    "id": "2tKkvMBrfygZ"
   },
   "source": [
    "# Keras functional API\n",
    "\n",
    "See https://www.tensorflow.org/guide/keras/functional"
   ]
  },
  {
   "cell_type": "code",
   "execution_count": 0,
   "metadata": {
    "colab": {},
    "colab_type": "code",
    "id": "w1VJgHNAfz7r"
   },
   "outputs": [],
   "source": [
    "inputs = tf.keras.layers.Input(shape=[32, 32, 3])\n",
    "layer1 = tf.keras.layers.Conv2D(filters=8, kernel_size=3, activation='relu', padding=\"same\")(inputs)\n",
    "layer2 = tf.keras.layers.MaxPool2D(strides=2)(layer1)\n",
    "layer3_resid = tf.keras.layers.Conv2D(filters=5, kernel_size=3, activation='relu', padding=\"same\")(layer2)\n",
    "layer2_proj = tf.keras.layers.Conv2D(filters=5, kernel_size=1, padding=\"same\")(layer2)\n",
    "layer3 = layer2_proj + layer3_resid\n",
    "layer4 = tf.keras.layers.Flatten()(layer3)\n",
    "layer5 = tf.keras.layers.Dense(10, activation='softmax')(layer4)"
   ]
  },
  {
   "cell_type": "code",
   "execution_count": 0,
   "metadata": {
    "colab": {},
    "colab_type": "code",
    "id": "MFrI5bkRinFs"
   },
   "outputs": [],
   "source": [
    "model = tf.keras.Model(inputs=inputs, outputs=layer5)"
   ]
  },
  {
   "cell_type": "code",
   "execution_count": 0,
   "metadata": {
    "colab": {},
    "colab_type": "code",
    "id": "3iBAv97KjuPr"
   },
   "outputs": [],
   "source": [
    "model.compile(loss=tf.keras.losses.sparse_categorical_crossentropy,\n",
    "              optimizer=tf.keras.optimizers.Adam(),\n",
    "              metrics=['accuracy'])"
   ]
  },
  {
   "cell_type": "code",
   "execution_count": 0,
   "metadata": {
    "colab": {},
    "colab_type": "code",
    "id": "DEr5dVgUjn3k"
   },
   "outputs": [],
   "source": [
    "model.fit(x_train, \n",
    "          y_train,\n",
    "          batch_size=10,\n",
    "          epochs=5,\n",
    "          verbose=1,\n",
    "          validation_data=(\n",
    "              x_test, \n",
    "              y_test))"
   ]
  },
  {
   "cell_type": "markdown",
   "metadata": {
    "colab_type": "text",
    "id": "ANoQTRf73TsL"
   },
   "source": [
    "# Subclassing Keras layer\n",
    "\n",
    "See https://www.tensorflow.org/guide/keras/custom_layers_and_models"
   ]
  },
  {
   "cell_type": "code",
   "execution_count": 0,
   "metadata": {
    "colab": {},
    "colab_type": "code",
    "id": "18mnimAL4zRq"
   },
   "outputs": [],
   "source": [
    "class ResidualLayer(tf.keras.layers.Layer):\n",
    "    def __init__(self):\n",
    "        super(ResidualLayer, self).__init__()\n",
    "        self._conv = tf.keras.layers.Conv2D(filters=5, kernel_size=3, activation='relu', padding='same')\n",
    "        self._project = tf.keras.layers.Conv2D(filters=5, kernel_size=1, padding='same')\n",
    "\n",
    "    def call(self, inputs):\n",
    "    return self._project(inputs) + self._conv(inputs)"
   ]
  },
  {
   "cell_type": "code",
   "execution_count": 0,
   "metadata": {
    "colab": {},
    "colab_type": "code",
    "id": "pQsWCJAI40o9"
   },
   "outputs": [],
   "source": [
    "model = tf.keras.Sequential()\n",
    "model.add(tf.keras.layers.Conv2D(filters=8, kernel_size=3, activation='relu'))\n",
    "model.add(tf.keras.layers.MaxPool2D(strides=2))\n",
    "model.add(ResidualLayer())\n",
    "model.add(tf.keras.layers.Flatten())\n",
    "model.add(tf.keras.layers.Dense(10, activation='softmax'))\n",
    "\n",
    "model.compile(loss=tf.keras.losses.sparse_categorical_crossentropy,\n",
    "              optimizer=tf.keras.optimizers.Adam(),\n",
    "              metrics=['accuracy'])"
   ]
  },
  {
   "cell_type": "code",
   "execution_count": 0,
   "metadata": {
    "colab": {},
    "colab_type": "code",
    "id": "k5oDbq-W5bPt"
   },
   "outputs": [],
   "source": [
    "model.fit(x_train, \n",
    "          y_train,\n",
    "          batch_size=10,\n",
    "          epochs=5,\n",
    "          verbose=1,\n",
    "          validation_data=(\n",
    "              x_test, \n",
    "              y_test))"
   ]
  },
  {
   "cell_type": "markdown",
   "metadata": {
    "colab_type": "text",
    "id": "kR7NDS-Uz-0h"
   },
   "source": [
    "# Saving models\n",
    "\n",
    "See https://www.tensorflow.org/guide/keras/save_and_serialize"
   ]
  },
  {
   "cell_type": "markdown",
   "metadata": {
    "colab_type": "text",
    "id": "EWc-x8aTDs3z"
   },
   "source": [
    "## Keras model"
   ]
  },
  {
   "cell_type": "code",
   "execution_count": 0,
   "metadata": {
    "colab": {},
    "colab_type": "code",
    "id": "1MlShN_ez_bS"
   },
   "outputs": [],
   "source": [
    "model.save(\"models/sequential\")"
   ]
  },
  {
   "cell_type": "code",
   "execution_count": 0,
   "metadata": {
    "colab": {},
    "colab_type": "code",
    "id": "PIz1fFaJDfZa"
   },
   "outputs": [],
   "source": [
    "restored_sequential_model = tf.keras.models.load_model(\"models/sequential\")"
   ]
  },
  {
   "cell_type": "code",
   "execution_count": 0,
   "metadata": {
    "colab": {},
    "colab_type": "code",
    "id": "8fTrtQ7NDhw_"
   },
   "outputs": [],
   "source": [
    "type(restored_sequential_model)"
   ]
  },
  {
   "cell_type": "markdown",
   "metadata": {
    "colab_type": "text",
    "id": "b3u4Up3-Duvh"
   },
   "source": [
    "## Custom model"
   ]
  },
  {
   "cell_type": "code",
   "execution_count": 0,
   "metadata": {
    "colab": {},
    "colab_type": "code",
    "id": "jj8MFpW20qdT"
   },
   "outputs": [],
   "source": [
    "tf.saved_model.save(\n",
    "    cnn, \n",
    "    \"models/custom_cnn\",\n",
    "    signatures=cnn.Infer)"
   ]
  },
  {
   "cell_type": "code",
   "execution_count": 0,
   "metadata": {
    "colab": {},
    "colab_type": "code",
    "id": "DHQQia5dDPsq"
   },
   "outputs": [],
   "source": [
    "restored_custom_cnn = tf.saved_model.load(\"models/custom_cnn\")"
   ]
  },
  {
   "cell_type": "code",
   "execution_count": 0,
   "metadata": {
    "colab": {},
    "colab_type": "code",
    "id": "BPwd5e16EFiw"
   },
   "outputs": [],
   "source": [
    "type(restored_custom_cnn)"
   ]
  },
  {
   "cell_type": "code",
   "execution_count": 0,
   "metadata": {
    "colab": {},
    "colab_type": "code",
    "id": "rv1LC2zpEYe9"
   },
   "outputs": [],
   "source": [
    "restored_custom_cnn.Infer(x_train)"
   ]
  }
 ],
 "metadata": {
  "accelerator": "GPU",
  "colab": {
   "collapsed_sections": [],
   "name": "Tensorflow tutorial: CIFAR-10.ipynb",
   "provenance": []
  },
  "kernelspec": {
   "display_name": "Python 3",
   "language": "python",
   "name": "python3"
  },
  "language_info": {
   "codemirror_mode": {
    "name": "ipython",
    "version": 3
   },
   "file_extension": ".py",
   "mimetype": "text/x-python",
   "name": "python",
   "nbconvert_exporter": "python",
   "pygments_lexer": "ipython3",
   "version": "3.8.1"
  },
  "latex_envs": {
   "LaTeX_envs_menu_present": true,
   "autoclose": false,
   "autocomplete": true,
   "bibliofile": "biblio.bib",
   "cite_by": "apalike",
   "current_citInitial": 1,
   "eqLabelWithNumbers": true,
   "eqNumInitial": 1,
   "hotkeys": {
    "equation": "Ctrl-E",
    "itemize": "Ctrl-I"
   },
   "labels_anchors": false,
   "latex_user_defs": false,
   "report_style_numbering": false,
   "user_envs_cfg": false
  },
  "varInspector": {
   "cols": {
    "lenName": 16,
    "lenType": 16,
    "lenVar": 40
   },
   "kernels_config": {
    "python": {
     "delete_cmd_postfix": "",
     "delete_cmd_prefix": "del ",
     "library": "var_list.py",
     "varRefreshCmd": "print(var_dic_list())"
    },
    "r": {
     "delete_cmd_postfix": ") ",
     "delete_cmd_prefix": "rm(",
     "library": "var_list.r",
     "varRefreshCmd": "cat(var_dic_list()) "
    }
   },
   "types_to_exclude": [
    "module",
    "function",
    "builtin_function_or_method",
    "instance",
    "_Feature"
   ],
   "window_display": false
  }
 },
 "nbformat": 4,
 "nbformat_minor": 1
}
