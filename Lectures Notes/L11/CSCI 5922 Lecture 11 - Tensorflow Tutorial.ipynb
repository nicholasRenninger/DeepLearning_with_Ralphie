{
 "cells": [
  {
   "cell_type": "code",
   "execution_count": 49,
   "metadata": {
    "ExecuteTime": {
     "end_time": "2020-02-29T06:37:45.027186Z",
     "start_time": "2020-02-29T06:37:45.024188Z"
    },
    "colab": {},
    "colab_type": "code",
    "id": "g0waNOG9ExLn"
   },
   "outputs": [
    {
     "name": "stderr",
     "output_type": "stream",
     "text": [
      "UsageError: Line magic function `%tensorflow_version` not found.\n"
     ]
    }
   ],
   "source": [
    "%tensorflow_version 2.x"
   ]
  },
  {
   "cell_type": "code",
   "execution_count": 50,
   "metadata": {
    "ExecuteTime": {
     "end_time": "2020-02-29T07:13:21.687415Z",
     "start_time": "2020-02-29T07:13:21.683668Z"
    },
    "colab": {},
    "colab_type": "code",
    "id": "5zL8RcK3t0oT"
   },
   "outputs": [
    {
     "name": "stdout",
     "output_type": "stream",
     "text": [
      "The tensorboard extension is already loaded. To reload it, use:\n",
      "  %reload_ext tensorboard\n"
     ]
    }
   ],
   "source": [
    "%load_ext tensorboard"
   ]
  },
  {
   "cell_type": "code",
   "execution_count": 51,
   "metadata": {
    "ExecuteTime": {
     "end_time": "2020-02-29T07:13:23.096179Z",
     "start_time": "2020-02-29T07:13:23.093467Z"
    },
    "colab": {},
    "colab_type": "code",
    "id": "KIeRpZiyDs-4"
   },
   "outputs": [],
   "source": [
    "import tensorflow as tf\n",
    "import matplotlib.pyplot as plt\n",
    "import numpy as np\n",
    "from datetime import datetime"
   ]
  },
  {
   "cell_type": "code",
   "execution_count": 7,
   "metadata": {
    "ExecuteTime": {
     "end_time": "2020-02-29T06:15:34.074017Z",
     "start_time": "2020-02-29T06:15:33.952741Z"
    },
    "colab": {},
    "colab_type": "code",
    "id": "VpS5Ebqbq6_t"
   },
   "outputs": [],
   "source": [
    "# Clear any logs from previous runs\n",
    "!rm -rf ./logs/ "
   ]
  },
  {
   "cell_type": "markdown",
   "metadata": {
    "colab_type": "text",
    "id": "3Ry69wbubqtC"
   },
   "source": [
    "# Variables, gradients"
   ]
  },
  {
   "cell_type": "code",
   "execution_count": 8,
   "metadata": {
    "ExecuteTime": {
     "end_time": "2020-02-29T06:15:35.185418Z",
     "start_time": "2020-02-29T06:15:35.164369Z"
    },
    "colab": {},
    "colab_type": "code",
    "id": "wMYf0lF_dHrg"
   },
   "outputs": [],
   "source": [
    "x = tf.Variable(initial_value=[1.0, 2.0, 3.0, 4.0])"
   ]
  },
  {
   "cell_type": "code",
   "execution_count": 12,
   "metadata": {
    "ExecuteTime": {
     "end_time": "2020-02-29T06:16:17.866835Z",
     "start_time": "2020-02-29T06:16:17.863772Z"
    },
    "colab": {},
    "colab_type": "code",
    "id": "YNmJsxUBdU7c"
   },
   "outputs": [],
   "source": [
    "with tf.GradientTape() as g:\n",
    "    y = tf.reduce_sum(tf.square(x))"
   ]
  },
  {
   "cell_type": "code",
   "execution_count": 13,
   "metadata": {
    "ExecuteTime": {
     "end_time": "2020-02-29T06:16:18.456752Z",
     "start_time": "2020-02-29T06:16:18.451958Z"
    },
    "colab": {},
    "colab_type": "code",
    "id": "0uq1yhLkddYr"
   },
   "outputs": [
    {
     "data": {
      "text/plain": [
       "<tf.Tensor: shape=(4,), dtype=float32, numpy=array([2., 4., 6., 8.], dtype=float32)>"
      ]
     },
     "execution_count": 13,
     "metadata": {},
     "output_type": "execute_result"
    }
   ],
   "source": [
    "g.gradient(y, x)"
   ]
  },
  {
   "cell_type": "markdown",
   "metadata": {
    "colab_type": "text",
    "id": "3wF6lCN9dhbM"
   },
   "source": [
    "# CIFAR-10\n",
    "See https://www.cs.toronto.edu/~kriz/cifar.html"
   ]
  },
  {
   "cell_type": "code",
   "execution_count": 14,
   "metadata": {
    "ExecuteTime": {
     "end_time": "2020-02-29T06:16:28.338841Z",
     "start_time": "2020-02-29T06:16:21.581478Z"
    },
    "colab": {},
    "colab_type": "code",
    "id": "f7B1B992FC57"
   },
   "outputs": [
    {
     "name": "stdout",
     "output_type": "stream",
     "text": [
      "Downloading data from https://www.cs.toronto.edu/~kriz/cifar-10-python.tar.gz\n",
      "170500096/170498071 [==============================] - 3s 0us/step\n"
     ]
    }
   ],
   "source": [
    "(x_train, y_train), (x_test, y_test) = tf.keras.datasets.cifar10.load_data()\n",
    "x_train = tf.cast(x_train, tf.float32) / 255\n",
    "x_test = tf.cast(x_test, tf.float32) / 255\n",
    "y_train = tf.squeeze(tf.cast(y_train, tf.int32))\n",
    "y_test = tf.squeeze(tf.cast(y_test, tf.int32))"
   ]
  },
  {
   "cell_type": "code",
   "execution_count": 15,
   "metadata": {
    "ExecuteTime": {
     "end_time": "2020-02-29T06:16:29.630380Z",
     "start_time": "2020-02-29T06:16:29.627407Z"
    },
    "colab": {},
    "colab_type": "code",
    "id": "xq9HWCtLJP_d"
   },
   "outputs": [],
   "source": [
    "labels = [\"airplane\", \"automobile\", \"bird\", \"cat\", \"deer\", \"dog\", \"frog\", \"horse\", \"ship\", \"truck\"]"
   ]
  },
  {
   "cell_type": "code",
   "execution_count": 16,
   "metadata": {
    "ExecuteTime": {
     "end_time": "2020-02-29T06:16:31.427800Z",
     "start_time": "2020-02-29T06:16:31.178257Z"
    },
    "cellView": "both",
    "colab": {},
    "colab_type": "code",
    "id": "m9D2GaNsF2S4"
   },
   "outputs": [
    {
     "data": {
      "text/plain": [
       "'automobile'"
      ]
     },
     "execution_count": 16,
     "metadata": {},
     "output_type": "execute_result"
    },
    {
     "data": {
      "image/png": "[encoded data removed]",
      "text/plain": [
       "<Figure size 432x288 with 1 Axes>"
      ]
     },
     "metadata": {
      "needs_background": "light"
     },
     "output_type": "display_data"
    }
   ],
   "source": [
    "img_number =  5102#@param {type:\"integer\"}\n",
    "\n",
    "plt.imshow(np.squeeze(x_train[img_number]))\n",
    "labels[y_train[img_number]]"
   ]
  },
  {
   "cell_type": "markdown",
   "metadata": {
    "colab_type": "text",
    "id": "a6rvrabmJyRA"
   },
   "source": [
    "# Low-level tensorflow without keras"
   ]
  },
  {
   "cell_type": "markdown",
   "metadata": {
    "colab_type": "text",
    "id": "ouA3f2ZGJ2jW"
   },
   "source": [
    "## 2-layer convolutional network / ResNet"
   ]
  },
  {
   "cell_type": "code",
   "execution_count": 25,
   "metadata": {
    "ExecuteTime": {
     "end_time": "2020-02-29T06:19:24.171134Z",
     "start_time": "2020-02-29T06:19:24.159810Z"
    },
    "colab": {},
    "colab_type": "code",
    "id": "qwq2QU4vJ8A2"
   },
   "outputs": [],
   "source": [
    "class CifarCNN(tf.Module):\n",
    "    def __init__(self):\n",
    "        initializer = tf.keras.initializers.glorot_normal()\n",
    "        self._filter1 = tf.Variable(initializer([3, 3, 3, 8]))\n",
    "        self._filter2 = tf.Variable(initializer([3, 3, 8, 5]))\n",
    "        self._filter_project = tf.Variable(initializer([1, 1, 8, 5]))\n",
    "        self._fcn_weights = tf.Variable(\n",
    "            initializer([16 * 16 * 5, 10])\n",
    "    )\n",
    "\n",
    "    @tf.function(input_signature=[tf.TensorSpec([None, 32, 32, 3])])\n",
    "    def Infer(self, input_batch):\n",
    "\n",
    "        # input_batch is (batch_size x 32 x 32 x 3)\n",
    "        net = tf.nn.conv2d(input_batch, self._filter1, strides=[1,1], padding=\"SAME\")\n",
    "        net = tf.nn.relu(net)\n",
    "        net = tf.nn.max_pool2d(net, ksize=[2, 2], strides=[2, 2], padding=\"SAME\")\n",
    "        residuals = tf.nn.relu(tf.nn.conv2d(\n",
    "            net, self._filter2, strides=[1,1], padding=\"SAME\"))\n",
    "        net = residuals + tf.nn.conv2d(\n",
    "            net, self._filter_project, strides=[1,1], padding=\"SAME\")\n",
    "        net = tf.reshape(net, [tf.shape(net)[0], -1])\n",
    "        net = tf.matmul(net, self._fcn_weights)\n",
    "        \n",
    "        return net\n",
    "\n",
    "    def GetLoss(self, x_batch, y_batch):\n",
    "        losses = tf.nn.sparse_softmax_cross_entropy_with_logits(\n",
    "              tf.squeeze(y_batch),\n",
    "              self.Infer(x_batch))\n",
    "        return tf.reduce_mean(losses)\n",
    "\n",
    "    def Accuracy(self, x, y_true):\n",
    "        logits = self.Infer(x)\n",
    "        return tf.reduce_mean(\n",
    "            tf.cast(tf.math.equal(\n",
    "                tf.cast(tf.math.argmax(logits, 1), y_true.dtype), \n",
    "                y_true), tf.float32))\n",
    "\n",
    "    @tf.function\n",
    "    def MakeStep(self, x_batch, y_batch, optimizer):\n",
    "        with tf.GradientTape() as g:\n",
    "            loss = self.GetLoss(x_batch, y_batch)\n",
    "        g = g.gradient(loss, self.trainable_variables)\n",
    "\n",
    "        # SGD step\n",
    "        optimizer.apply_gradients(zip(g, self.trainable_variables))"
   ]
  },
  {
   "cell_type": "code",
   "execution_count": 26,
   "metadata": {
    "ExecuteTime": {
     "end_time": "2020-02-29T06:19:24.984673Z",
     "start_time": "2020-02-29T06:19:24.979549Z"
    },
    "colab": {},
    "colab_type": "code",
    "id": "-RNmVTnQPFCZ"
   },
   "outputs": [],
   "source": [
    "cnn = CifarCNN()"
   ]
  },
  {
   "cell_type": "code",
   "execution_count": 27,
   "metadata": {
    "ExecuteTime": {
     "end_time": "2020-02-29T06:19:25.693642Z",
     "start_time": "2020-02-29T06:19:25.427693Z"
    },
    "colab": {},
    "colab_type": "code",
    "id": "DJ8MdSJgXLD1"
   },
   "outputs": [
    {
     "data": {
      "text/plain": [
       "<tf.Tensor: shape=(), dtype=float32, numpy=0.0936>"
      ]
     },
     "execution_count": 27,
     "metadata": {},
     "output_type": "execute_result"
    }
   ],
   "source": [
    "cnn.Accuracy(x_test, y_test)"
   ]
  },
  {
   "cell_type": "code",
   "execution_count": 28,
   "metadata": {
    "ExecuteTime": {
     "end_time": "2020-02-29T06:21:01.838428Z",
     "start_time": "2020-02-29T06:19:26.779643Z"
    },
    "colab": {},
    "colab_type": "code",
    "id": "TIw_syHwVruB"
   },
   "outputs": [
    {
     "name": "stdout",
     "output_type": "stream",
     "text": [
      "Epoch 0: test accuracy 0.09359999746084213\n",
      "Epoch 1: test accuracy 0.48339998722076416\n",
      "Epoch 2: test accuracy 0.527899980545044\n",
      "Epoch 3: test accuracy 0.5414999723434448\n",
      "Epoch 4: test accuracy 0.5516999959945679\n"
     ]
    }
   ],
   "source": [
    "batch_size = 10\n",
    "epochs = 5\n",
    "\n",
    "optimizer = tf.keras.optimizers.Adam()\n",
    "_ = cnn.Infer(x_train[0:10])\n",
    "for j in range(epochs):\n",
    "    print(f\"Epoch {j}: test accuracy {cnn.Accuracy(x_test, y_test)}\")\n",
    "    for i in range(5000):\n",
    "        cnn.MakeStep(\n",
    "            x_train[(i*batch_size):((i+1)*batch_size)],\n",
    "            y_train[(i*batch_size):((i+1)*batch_size)],\n",
    "            optimizer)"
   ]
  },
  {
   "cell_type": "markdown",
   "metadata": {
    "colab_type": "text",
    "id": "vj3H1A4YbZgd"
   },
   "source": [
    "# Keras sequential API\n",
    "\n",
    "See https://www.tensorflow.org/api_docs/python/tf/keras/Sequential"
   ]
  },
  {
   "cell_type": "code",
   "execution_count": 29,
   "metadata": {
    "ExecuteTime": {
     "end_time": "2020-02-29T06:21:01.881891Z",
     "start_time": "2020-02-29T06:21:01.872423Z"
    },
    "colab": {},
    "colab_type": "code",
    "id": "4W1atdvKgqfl"
   },
   "outputs": [],
   "source": [
    "model = tf.keras.Sequential()\n",
    "model.add(tf.keras.layers.Conv2D(filters=8, kernel_size=3, activation='relu'))\n",
    "model.add(tf.keras.layers.MaxPool2D(strides=2))\n",
    "model.add(tf.keras.layers.Conv2D(filters=5, kernel_size=3, activation='relu'))\n",
    "model.add(tf.keras.layers.Flatten())\n",
    "model.add(tf.keras.layers.Dense(10, activation='softmax'))\n",
    "\n",
    "model.compile(loss=tf.keras.losses.sparse_categorical_crossentropy,\n",
    "              optimizer=tf.keras.optimizers.Adam(),\n",
    "              metrics=['accuracy'])"
   ]
  },
  {
   "cell_type": "code",
   "execution_count": 30,
   "metadata": {
    "ExecuteTime": {
     "end_time": "2020-02-29T06:21:01.917708Z",
     "start_time": "2020-02-29T06:21:01.915017Z"
    },
    "colab": {},
    "colab_type": "code",
    "id": "iZ3Jg3o-sV0T"
   },
   "outputs": [],
   "source": [
    "logdir=\"logs/sequential_fit/\" + datetime.now().strftime(\"%Y%m%d-%H%M%S\")\n",
    "tensorboard_callback = tf.keras.callbacks.TensorBoard(log_dir=logdir)"
   ]
  },
  {
   "cell_type": "code",
   "execution_count": 53,
   "metadata": {
    "ExecuteTime": {
     "end_time": "2020-02-29T07:15:19.985603Z",
     "start_time": "2020-02-29T07:14:28.407300Z"
    },
    "colab": {},
    "colab_type": "code",
    "id": "aZCqjlNigsmX"
   },
   "outputs": [
    {
     "name": "stdout",
     "output_type": "stream",
     "text": [
      "Train on 50000 samples, validate on 10000 samples\n",
      "Epoch 1/3\n",
      "50000/50000 [==============================] - 16s 310us/sample - loss: 1.1306 - accuracy: 0.6042 - val_loss: 1.2404 - val_accuracy: 0.5653\n",
      "Epoch 2/3\n",
      "50000/50000 [==============================] - 21s 428us/sample - loss: 1.1220 - accuracy: 0.6064 - val_loss: 1.2016 - val_accuracy: 0.5768\n",
      "Epoch 3/3\n",
      "50000/50000 [==============================] - 15s 293us/sample - loss: 1.1126 - accuracy: 0.6114 - val_loss: 1.1992 - val_accuracy: 0.5814\n"
     ]
    },
    {
     "data": {
      "text/plain": [
       "<tensorflow.python.keras.callbacks.History at 0x63c78c290>"
      ]
     },
     "execution_count": 53,
     "metadata": {},
     "output_type": "execute_result"
    }
   ],
   "source": [
    "model.fit(x_train, \n",
    "          y_train,\n",
    "          batch_size=10,\n",
    "          epochs=3,\n",
    "          verbose=1,\n",
    "          validation_data=(\n",
    "              x_test, \n",
    "              y_test),\n",
    "          callbacks=[tensorboard_callback],\n",
    "         use_multiprocessing=False)"
   ]
  },
  {
   "cell_type": "code",
   "execution_count": 32,
   "metadata": {
    "ExecuteTime": {
     "end_time": "2020-02-29T06:21:55.302274Z",
     "start_time": "2020-02-29T06:21:51.257777Z"
    },
    "colab": {},
    "colab_type": "code",
    "id": "02cL7_IEtQHJ"
   },
   "outputs": [
    {
     "data": {
      "text/html": [
       "\n",
       "      <iframe id=\"tensorboard-frame-71374f092aeaf014\" width=\"100%\" height=\"800\" frameborder=\"0\">\n",
       "      </iframe>\n",
       "      <script>\n",
       "        (function() {\n",
       "          const frame = document.getElementById(\"tensorboard-frame-71374f092aeaf014\");\n",
       "          const url = new URL(\"/\", window.location);\n",
       "          url.port = 6006;\n",
       "          frame.src = url;\n",
       "        })();\n",
       "      </script>\n",
       "  "
      ],
      "text/plain": [
       "<IPython.core.display.HTML object>"
      ]
     },
     "metadata": {},
     "output_type": "display_data"
    }
   ],
   "source": [
    "%tensorboard --logdir logs"
   ]
  },
  {
   "cell_type": "markdown",
   "metadata": {
    "colab_type": "text",
    "id": "2tKkvMBrfygZ"
   },
   "source": [
    "# Keras functional API\n",
    "\n",
    "See https://www.tensorflow.org/guide/keras/functional"
   ]
  },
  {
   "cell_type": "code",
   "execution_count": 33,
   "metadata": {
    "ExecuteTime": {
     "end_time": "2020-02-29T06:21:55.391645Z",
     "start_time": "2020-02-29T06:21:55.350747Z"
    },
    "colab": {},
    "colab_type": "code",
    "id": "w1VJgHNAfz7r"
   },
   "outputs": [],
   "source": [
    "inputs = tf.keras.layers.Input(shape=[32, 32, 3])\n",
    "layer1 = tf.keras.layers.Conv2D(filters=8, kernel_size=3, activation='relu', padding=\"same\")(inputs)\n",
    "layer2 = tf.keras.layers.MaxPool2D(strides=2)(layer1)\n",
    "layer3_resid = tf.keras.layers.Conv2D(filters=5, kernel_size=3, activation='relu', padding=\"same\")(layer2)\n",
    "layer2_proj = tf.keras.layers.Conv2D(filters=5, kernel_size=1, padding=\"same\")(layer2)\n",
    "layer3 = layer2_proj + layer3_resid\n",
    "layer4 = tf.keras.layers.Flatten()(layer3)\n",
    "layer5 = tf.keras.layers.Dense(10, activation='softmax')(layer4)"
   ]
  },
  {
   "cell_type": "code",
   "execution_count": 34,
   "metadata": {
    "ExecuteTime": {
     "end_time": "2020-02-29T06:21:55.437267Z",
     "start_time": "2020-02-29T06:21:55.432559Z"
    },
    "colab": {},
    "colab_type": "code",
    "id": "MFrI5bkRinFs"
   },
   "outputs": [],
   "source": [
    "model = tf.keras.Model(inputs=inputs, outputs=layer5)"
   ]
  },
  {
   "cell_type": "code",
   "execution_count": 35,
   "metadata": {
    "ExecuteTime": {
     "end_time": "2020-02-29T06:21:55.510393Z",
     "start_time": "2020-02-29T06:21:55.477602Z"
    },
    "colab": {},
    "colab_type": "code",
    "id": "3iBAv97KjuPr"
   },
   "outputs": [],
   "source": [
    "model.compile(loss=tf.keras.losses.sparse_categorical_crossentropy,\n",
    "              optimizer=tf.keras.optimizers.Adam(),\n",
    "              metrics=['accuracy'])"
   ]
  },
  {
   "cell_type": "code",
   "execution_count": 36,
   "metadata": {
    "ExecuteTime": {
     "end_time": "2020-02-29T06:23:56.497952Z",
     "start_time": "2020-02-29T06:21:55.520117Z"
    },
    "colab": {},
    "colab_type": "code",
    "id": "DEr5dVgUjn3k"
   },
   "outputs": [
    {
     "name": "stdout",
     "output_type": "stream",
     "text": [
      "Train on 50000 samples, validate on 10000 samples\n",
      "Epoch 1/5\n",
      "50000/50000 [==============================] - 24s 488us/sample - loss: 1.5520 - accuracy: 0.4491 - val_loss: 1.3702 - val_accuracy: 0.5155\n",
      "Epoch 2/5\n",
      "50000/50000 [==============================] - 26s 524us/sample - loss: 1.3265 - accuracy: 0.5344 - val_loss: 1.3165 - val_accuracy: 0.5332\n",
      "Epoch 3/5\n",
      "50000/50000 [==============================] - 25s 494us/sample - loss: 1.2634 - accuracy: 0.5575 - val_loss: 1.2716 - val_accuracy: 0.5477\n",
      "Epoch 4/5\n",
      "50000/50000 [==============================] - 23s 456us/sample - loss: 1.2273 - accuracy: 0.5699 - val_loss: 1.2726 - val_accuracy: 0.5575\n",
      "Epoch 5/5\n",
      "50000/50000 [==============================] - 23s 457us/sample - loss: 1.1953 - accuracy: 0.5805 - val_loss: 1.2274 - val_accuracy: 0.5660\n"
     ]
    },
    {
     "data": {
      "text/plain": [
       "<tensorflow.python.keras.callbacks.History at 0x6396a8250>"
      ]
     },
     "execution_count": 36,
     "metadata": {},
     "output_type": "execute_result"
    }
   ],
   "source": [
    "model.fit(x_train, \n",
    "          y_train,\n",
    "          batch_size=10,\n",
    "          epochs=5,\n",
    "          verbose=1,\n",
    "          validation_data=(\n",
    "              x_test, \n",
    "              y_test))"
   ]
  },
  {
   "cell_type": "markdown",
   "metadata": {
    "colab_type": "text",
    "id": "ANoQTRf73TsL"
   },
   "source": [
    "# Subclassing Keras layer\n",
    "\n",
    "See https://www.tensorflow.org/guide/keras/custom_layers_and_models"
   ]
  },
  {
   "cell_type": "code",
   "execution_count": 38,
   "metadata": {
    "ExecuteTime": {
     "end_time": "2020-02-29T06:32:59.506362Z",
     "start_time": "2020-02-29T06:32:59.502466Z"
    },
    "colab": {},
    "colab_type": "code",
    "id": "18mnimAL4zRq"
   },
   "outputs": [],
   "source": [
    "class ResidualLayer(tf.keras.layers.Layer):\n",
    "    def __init__(self):\n",
    "        super(ResidualLayer, self).__init__()\n",
    "        self._conv = tf.keras.layers.Conv2D(filters=5, kernel_size=3, activation='relu', padding='same')\n",
    "        self._project = tf.keras.layers.Conv2D(filters=5, kernel_size=1, padding='same')\n",
    "\n",
    "    def call(self, inputs):\n",
    "        return self._project(inputs) + self._conv(inputs)"
   ]
  },
  {
   "cell_type": "code",
   "execution_count": 40,
   "metadata": {
    "ExecuteTime": {
     "end_time": "2020-02-29T06:33:03.126328Z",
     "start_time": "2020-02-29T06:33:03.116599Z"
    },
    "colab": {},
    "colab_type": "code",
    "id": "pQsWCJAI40o9"
   },
   "outputs": [],
   "source": [
    "model = tf.keras.Sequential()\n",
    "model.add(tf.keras.layers.Conv2D(filters=8, kernel_size=3, activation='relu'))\n",
    "model.add(tf.keras.layers.MaxPool2D(strides=2))\n",
    "model.add(ResidualLayer())\n",
    "model.add(tf.keras.layers.Flatten())\n",
    "model.add(tf.keras.layers.Dense(10, activation='softmax'))\n",
    "\n",
    "model.compile(loss=tf.keras.losses.sparse_categorical_crossentropy,\n",
    "              optimizer=tf.keras.optimizers.Adam(),\n",
    "              metrics=['accuracy'])"
   ]
  },
  {
   "cell_type": "code",
   "execution_count": 41,
   "metadata": {
    "ExecuteTime": {
     "end_time": "2020-02-29T06:34:25.087920Z",
     "start_time": "2020-02-29T06:33:03.868502Z"
    },
    "colab": {},
    "colab_type": "code",
    "id": "k5oDbq-W5bPt"
   },
   "outputs": [
    {
     "name": "stdout",
     "output_type": "stream",
     "text": [
      "Train on 50000 samples, validate on 10000 samples\n",
      "Epoch 1/5\n",
      "50000/50000 [==============================] - 18s 355us/sample - loss: 1.5635 - accuracy: 0.4429 - val_loss: 1.4315 - val_accuracy: 0.4890\n",
      "Epoch 2/5\n",
      "50000/50000 [==============================] - 18s 357us/sample - loss: 1.3658 - accuracy: 0.5182 - val_loss: 1.3334 - val_accuracy: 0.5256\n",
      "Epoch 3/5\n",
      "50000/50000 [==============================] - 14s 278us/sample - loss: 1.2894 - accuracy: 0.5465 - val_loss: 1.3289 - val_accuracy: 0.5240\n",
      "Epoch 4/5\n",
      "50000/50000 [==============================] - 17s 338us/sample - loss: 1.2402 - accuracy: 0.5636 - val_loss: 1.2773 - val_accuracy: 0.5475\n",
      "Epoch 5/5\n",
      "50000/50000 [==============================] - 15s 295us/sample - loss: 1.2063 - accuracy: 0.5767 - val_loss: 1.2721 - val_accuracy: 0.5488\n"
     ]
    },
    {
     "data": {
      "text/plain": [
       "<tensorflow.python.keras.callbacks.History at 0x6461a5b90>"
      ]
     },
     "execution_count": 41,
     "metadata": {},
     "output_type": "execute_result"
    }
   ],
   "source": [
    "model.fit(x_train, \n",
    "          y_train,\n",
    "          batch_size=10,\n",
    "          epochs=5,\n",
    "          verbose=1,\n",
    "          validation_data=(\n",
    "              x_test, \n",
    "              y_test))"
   ]
  },
  {
   "cell_type": "markdown",
   "metadata": {
    "colab_type": "text",
    "id": "kR7NDS-Uz-0h"
   },
   "source": [
    "# Saving models\n",
    "\n",
    "See https://www.tensorflow.org/guide/keras/save_and_serialize"
   ]
  },
  {
   "cell_type": "markdown",
   "metadata": {
    "colab_type": "text",
    "id": "EWc-x8aTDs3z"
   },
   "source": [
    "## Keras model"
   ]
  },
  {
   "cell_type": "code",
   "execution_count": 42,
   "metadata": {
    "ExecuteTime": {
     "end_time": "2020-02-29T06:34:25.648081Z",
     "start_time": "2020-02-29T06:34:25.125779Z"
    },
    "colab": {},
    "colab_type": "code",
    "id": "1MlShN_ez_bS"
   },
   "outputs": [
    {
     "name": "stdout",
     "output_type": "stream",
     "text": [
      "WARNING:tensorflow:From /Users/nicholasrenninger/anaconda3/envs/DL/lib/python3.7/site-packages/tensorflow_core/python/ops/resource_variable_ops.py:1786: calling BaseResourceVariable.__init__ (from tensorflow.python.ops.resource_variable_ops) with constraint is deprecated and will be removed in a future version.\n",
      "Instructions for updating:\n",
      "If using Keras pass *_constraint arguments to layers.\n",
      "INFO:tensorflow:Assets written to: models/sequential/assets\n"
     ]
    }
   ],
   "source": [
    "model.save(\"models/sequential\")"
   ]
  },
  {
   "cell_type": "code",
   "execution_count": 43,
   "metadata": {
    "ExecuteTime": {
     "end_time": "2020-02-29T06:34:25.897294Z",
     "start_time": "2020-02-29T06:34:25.683456Z"
    },
    "colab": {},
    "colab_type": "code",
    "id": "PIz1fFaJDfZa"
   },
   "outputs": [],
   "source": [
    "restored_sequential_model = tf.keras.models.load_model(\"models/sequential\")"
   ]
  },
  {
   "cell_type": "code",
   "execution_count": 44,
   "metadata": {
    "ExecuteTime": {
     "end_time": "2020-02-29T06:34:25.939299Z",
     "start_time": "2020-02-29T06:34:25.935959Z"
    },
    "colab": {},
    "colab_type": "code",
    "id": "8fTrtQ7NDhw_"
   },
   "outputs": [
    {
     "data": {
      "text/plain": [
       "tensorflow.python.keras.saving.saved_model.load.Sequential"
      ]
     },
     "execution_count": 44,
     "metadata": {},
     "output_type": "execute_result"
    }
   ],
   "source": [
    "type(restored_sequential_model)"
   ]
  },
  {
   "cell_type": "markdown",
   "metadata": {
    "colab_type": "text",
    "id": "b3u4Up3-Duvh"
   },
   "source": [
    "## Custom model"
   ]
  },
  {
   "cell_type": "code",
   "execution_count": 45,
   "metadata": {
    "ExecuteTime": {
     "end_time": "2020-02-29T06:34:26.033666Z",
     "start_time": "2020-02-29T06:34:25.974599Z"
    },
    "colab": {},
    "colab_type": "code",
    "id": "jj8MFpW20qdT"
   },
   "outputs": [
    {
     "name": "stdout",
     "output_type": "stream",
     "text": [
      "INFO:tensorflow:Unsupported signature for serialization: ((TensorSpec(shape=(10, 32, 32, 3), dtype=tf.float32, name='x_batch'), TensorSpec(shape=(10,), dtype=tf.int32, name='y_batch'), <tensorflow.python.framework.func_graph.UnknownArgument object at 0x639bc6cd0>), {}).\n",
      "INFO:tensorflow:Unsupported signature for serialization: ((TensorSpec(shape=(10, 32, 32, 3), dtype=tf.float32, name='x_batch'), TensorSpec(shape=(10,), dtype=tf.int32, name='y_batch'), <tensorflow.python.framework.func_graph.UnknownArgument object at 0x13261d9d0>), {}).\n",
      "INFO:tensorflow:Unsupported signature for serialization: ((TensorSpec(shape=(10, 32, 32, 3), dtype=tf.float32, name='x_batch'), TensorSpec(shape=(10,), dtype=tf.int32, name='y_batch'), <tensorflow.python.framework.func_graph.UnknownArgument object at 0x639bc6cd0>), {}).\n",
      "INFO:tensorflow:Unsupported signature for serialization: ((TensorSpec(shape=(10, 32, 32, 3), dtype=tf.float32, name='x_batch'), TensorSpec(shape=(10,), dtype=tf.int32, name='y_batch'), <tensorflow.python.framework.func_graph.UnknownArgument object at 0x13261d9d0>), {}).\n",
      "INFO:tensorflow:Assets written to: models/custom_cnn/assets\n",
      "INFO:tensorflow:Unsupported signature for serialization: ((TensorSpec(shape=(10, 32, 32, 3), dtype=tf.float32, name='x_batch'), TensorSpec(shape=(10,), dtype=tf.int32, name='y_batch'), <tensorflow.python.framework.func_graph.UnknownArgument object at 0x639bc6cd0>), {}).\n",
      "INFO:tensorflow:Unsupported signature for serialization: ((TensorSpec(shape=(10, 32, 32, 3), dtype=tf.float32, name='x_batch'), TensorSpec(shape=(10,), dtype=tf.int32, name='y_batch'), <tensorflow.python.framework.func_graph.UnknownArgument object at 0x13261d9d0>), {}).\n"
     ]
    }
   ],
   "source": [
    "tf.saved_model.save(\n",
    "    cnn, \n",
    "    \"models/custom_cnn\",\n",
    "    signatures=cnn.Infer)"
   ]
  },
  {
   "cell_type": "code",
   "execution_count": 46,
   "metadata": {
    "ExecuteTime": {
     "end_time": "2020-02-29T06:34:26.102500Z",
     "start_time": "2020-02-29T06:34:26.069618Z"
    },
    "colab": {},
    "colab_type": "code",
    "id": "DHQQia5dDPsq"
   },
   "outputs": [],
   "source": [
    "restored_custom_cnn = tf.saved_model.load(\"models/custom_cnn\")"
   ]
  },
  {
   "cell_type": "code",
   "execution_count": 47,
   "metadata": {
    "ExecuteTime": {
     "end_time": "2020-02-29T06:34:26.141565Z",
     "start_time": "2020-02-29T06:34:26.138320Z"
    },
    "colab": {},
    "colab_type": "code",
    "id": "BPwd5e16EFiw"
   },
   "outputs": [
    {
     "data": {
      "text/plain": [
       "tensorflow.python.saved_model.load.Loader._recreate_base_user_object.<locals>._UserObject"
      ]
     },
     "execution_count": 47,
     "metadata": {},
     "output_type": "execute_result"
    }
   ],
   "source": [
    "type(restored_custom_cnn)"
   ]
  },
  {
   "cell_type": "code",
   "execution_count": 48,
   "metadata": {
    "ExecuteTime": {
     "end_time": "2020-02-29T06:34:27.619926Z",
     "start_time": "2020-02-29T06:34:26.176167Z"
    },
    "colab": {},
    "colab_type": "code",
    "id": "rv1LC2zpEYe9"
   },
   "outputs": [
    {
     "data": {
      "text/plain": [
       "<tf.Tensor: shape=(50000, 10), dtype=float32, numpy=\n",
       "array([[-5.4295797e+00, -2.9956594e+00, -6.0062349e-02, ...,\n",
       "         1.6884594e+00, -4.6028161e+00, -1.9677858e+00],\n",
       "       [-1.5982915e+00,  1.4999268e+00, -7.4555182e-01, ...,\n",
       "         1.5438454e+00, -6.4828980e-01,  2.8782196e+00],\n",
       "       [-5.9725356e-01,  6.5766191e-01, -2.4925237e+00, ...,\n",
       "        -1.3512856e+00,  3.5838175e-01,  2.3083820e+00],\n",
       "       ...,\n",
       "       [ 1.4636739e+00,  1.4987171e-01, -1.5574808e+00, ...,\n",
       "        -8.5774601e-02,  1.6649008e-01,  3.6600404e+00],\n",
       "       [ 9.9532920e-01,  3.8263810e+00, -9.1854852e-01, ...,\n",
       "        -3.1637583e+00,  2.0755935e+00,  3.5024641e+00],\n",
       "       [-2.2651553e-03,  1.6006379e+00, -1.3870288e+00, ...,\n",
       "        -1.2022585e+00,  1.6045918e+00,  1.2374460e+00]], dtype=float32)>"
      ]
     },
     "execution_count": 48,
     "metadata": {},
     "output_type": "execute_result"
    }
   ],
   "source": [
    "restored_custom_cnn.Infer(x_train)"
   ]
  }
 ],
 "metadata": {
  "accelerator": "GPU",
  "colab": {
   "collapsed_sections": [],
   "name": "Tensorflow tutorial: CIFAR-10.ipynb",
   "provenance": []
  },
  "kernelspec": {
   "display_name": "Python 3",
   "language": "python",
   "name": "python3"
  },
  "language_info": {
   "codemirror_mode": {
    "name": "ipython",
    "version": 3
   },
   "file_extension": ".py",
   "mimetype": "text/x-python",
   "name": "python",
   "nbconvert_exporter": "python",
   "pygments_lexer": "ipython3",
   "version": "3.7.6"
  },
  "latex_envs": {
   "LaTeX_envs_menu_present": true,
   "autoclose": false,
   "autocomplete": true,
   "bibliofile": "biblio.bib",
   "cite_by": "apalike",
   "current_citInitial": 1,
   "eqLabelWithNumbers": true,
   "eqNumInitial": 1,
   "hotkeys": {
    "equation": "Ctrl-E",
    "itemize": "Ctrl-I"
   },
   "labels_anchors": false,
   "latex_user_defs": false,
   "report_style_numbering": false,
   "user_envs_cfg": false
  },
  "varInspector": {
   "cols": {
    "lenName": 16,
    "lenType": 16,
    "lenVar": 40
   },
   "kernels_config": {
    "python": {
     "delete_cmd_postfix": "",
     "delete_cmd_prefix": "del ",
     "library": "var_list.py",
     "varRefreshCmd": "print(var_dic_list())"
    },
    "r": {
     "delete_cmd_postfix": ") ",
     "delete_cmd_prefix": "rm(",
     "library": "var_list.r",
     "varRefreshCmd": "cat(var_dic_list()) "
    }
   },
   "types_to_exclude": [
    "module",
    "function",
    "builtin_function_or_method",
    "instance",
    "_Feature"
   ],
   "window_display": false
  }
 },
 "nbformat": 4,
 "nbformat_minor": 1
}
