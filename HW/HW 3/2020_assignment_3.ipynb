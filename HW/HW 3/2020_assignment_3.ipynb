{
 "cells": [
  {
   "cell_type": "markdown",
   "metadata": {
    "colab_type": "text",
    "id": "Kyfqk1ZwV3we"
   },
   "source": [
    "# Recurrent Neural Network\n",
    "***\n",
    "**Name**: Nicholas Renninger\n",
    "***"
   ]
  },
  {
   "cell_type": "markdown",
   "metadata": {
    "colab_type": "text",
    "id": "x2HnzA-ZURSu"
   },
   "source": [
    "## Goal\n",
    "The goal of this assignment is to use TensorFlow to build some recurrent neural nets (RNNs) and to understand their limitations through experimentation.\n",
    "\n",
    "## The Task\n",
    "You will implement a recurrent neural net to learn the parity operator. The net will have a single input unit and a single output unit, and a fully-connected layer of H hidden units. The inputs and target outputs are binary. When an input sequence is presented, the output state at the end of the sequence should be a parity bit: output should be 1 if the input has an odd number of '1' values. For example, the sequence 1-0-0-1-0-1 should yield output 1 and the sequence 0-0-0-0-1-1 should yield output 0. Note that a target is given only at the end of each sequence. (Parity is easy to learn if there is a target at each step that indicates parity given the sequence so far.)\n",
    "\n",
    "Parity is a hard problem for neural nets to learn because very similar inputs produce different outputs, and very dissimilar inputs can produce the same output.\n",
    "\n",
    "The aspects of the task we will manipulate are:  H, the number of hidden units, N, the length of the input strings, and the activation function for the hidden units, either tanh or LSTM-style neurons. The output neuron should have a logistic activation function.\n",
    "\n",
    "Tip: get started early.  Depending on your system, these nets can take several minutes to train.  Exploring hyperparameters (such as training rate) will be critical for success.\n"
   ]
  },
  {
   "cell_type": "markdown",
   "metadata": {
    "colab_type": "text",
    "id": "kKEl35tibl8t"
   },
   "source": [
    "### Some Help\n",
    "Below are some helper codes to:\n",
    "- generate input strings and their parity.\n",
    "- provide a callback to trigger early stopping during training\n",
    "- plotting"
   ]
  },
  {
   "cell_type": "code",
   "execution_count": 28,
   "metadata": {
    "ExecuteTime": {
     "end_time": "2020-02-29T07:08:12.411333Z",
     "start_time": "2020-02-29T07:08:08.166494Z"
    },
    "code_folding": [],
    "colab": {},
    "colab_type": "code",
    "id": "Rsf2q8L6UY8n"
   },
   "outputs": [],
   "source": [
    "# %tensorflow_version 2.x # use only in Google Colab\n",
    "import tensorflow as tf\n",
    "import numpy as np\n",
    "from matplotlib import pyplot\n",
    "from sklearn.model_selection import train_test_split\n",
    "\n",
    "\n",
    "def gen_binary_sequences(num, length):\n",
    "    '''\n",
    "    Generate :num: sequences of length :length:.\n",
    "    '''\n",
    "    return(np.random.randint(0, 2, size=(num, length), dtype=np.int32))\n",
    "\n",
    "def calc_parity(seqs):\n",
    "    '''\n",
    "    Calculate sequence parity (1 if odd number of 1s, 0 if even number of 1s)\n",
    "    '''\n",
    "    return(seqs.sum(axis=-1) % 2)\n",
    "\n",
    "\n",
    "class create_accuracy_callback(tf.keras.callbacks.Callback):\n",
    "    '''\n",
    "    Callback function to stop training at 100% accuracy\n",
    "    '''\n",
    "    def on_epoch_end(self, epoch, logs={}):\n",
    "\n",
    "        if(logs['accuracy'] == 1.0 and logs['val_accuracy'] == 1.0):\n",
    "            self.model.stop_training = True\n",
    "\n",
    "\n",
    "def plot_accuracies(accuracies,Ns,Hs):\n",
    "    '''\n",
    "    Make a graph of mean % correct (and standard error) on the test set for the\n",
    "    different values of H and N.\n",
    "\n",
    "    Input: ndarray of |Hs|x|Ns|x(reps)\n",
    "         actual values of Ns and Hs\n",
    "    '''\n",
    "\n",
    "    lenH,lenN,lenreps = accuracies.shape\n",
    "    assert(lenH == len(Hs))\n",
    "    assert(lenN == len(Ns))\n",
    "    \n",
    "    accuracies_mean = accuracies.mean(axis=2)\n",
    "    accuracies_std = accuracies.std(axis=2)\n",
    "    accuracies_stderr = accuracies_std/np.sqrt(lenreps)\n",
    "\n",
    "    # plot\n",
    "    fig = pyplot.figure()\n",
    "    ax = fig.add_subplot(111)\n",
    "    ax.axhline(0.5,linestyle=\"--\",color=\"gray\") # chance baseline\n",
    "    centers = np.arange(lenN)\n",
    "\n",
    "    for Hindex, H in enumerate(Hs):\n",
    "        ax.bar(centers + 0.8/lenH*(Hindex-(lenH-1)/2),\n",
    "               accuracies_mean[Hindex], 0.8/lenH,\n",
    "               yerr=accuracies_stderr[Hindex],\n",
    "               alpha=0.5, label=f\"{H} hidden units\")\n",
    "\n",
    "    ax.set_xlabel(\"sequence length\")\n",
    "    pyplot.xticks(centers,Ns)\n",
    "    ax.set_ylabel(\"accuracy\")\n",
    "    pyplot.legend(loc=\"lower left\")"
   ]
  },
  {
   "cell_type": "markdown",
   "metadata": {
    "colab_type": "text",
    "id": "fyhd-HYBdcF0"
   },
   "source": [
    "## Part 1\n",
    "\n",
    "Experiments with vanilla RNNs $\\textrm{tanh}$ activations."
   ]
  },
  {
   "cell_type": "markdown",
   "metadata": {
    "colab_type": "text",
    "id": "fyhd-HYBdcF0"
   },
   "source": [
    "### Part 1.a\n",
    "Fill in the code to create a net given H and N using the tanh activation function for the hidden units.  Keras has a number of RNN helper functions, although you can also write your own custom layers.\n",
    "\n",
    "Remember that the net should only take one bit of input at a time from the input sequence, and output one logistic value (between 0 and 1) only after the input sequence is complete."
   ]
  },
  {
   "cell_type": "code",
   "execution_count": 49,
   "metadata": {
    "ExecuteTime": {
     "end_time": "2020-02-29T07:45:00.314982Z",
     "start_time": "2020-02-29T07:45:00.311978Z"
    },
    "colab": {},
    "colab_type": "code",
    "id": "AJuSiefzejFZ"
   },
   "outputs": [],
   "source": [
    "def build_tanh_model(N, H):\n",
    "    '''\n",
    "    Builder for an RNN model with tanh hidden activations.\n",
    "    Model inputs are binary sequences of length :N:.\n",
    "\n",
    "    At each sequence position, the input and prior state should be fully\n",
    "    connected to :H: hidden units with tanh activation.\n",
    "\n",
    "    The output of the last state of the RNN should be fully connected to a \n",
    "    single unit with logistic activation, to perform the final \n",
    "    classification of the sequence.\n",
    "    '''\n",
    "    # %%% TO DO %%%\n",
    "    model = None\n",
    "\n",
    "    return model"
   ]
  },
  {
   "cell_type": "markdown",
   "metadata": {
    "colab_type": "text",
    "id": "k0O0WxWqnTD7"
   },
   "source": [
    "### Part 1.b\n",
    "Then fill in the code to train several such nets.  Each repetition should randomize the initial weights and generate a random training set of 10000 examples of length N as well as a random test set of 10000 examples of length N.  Save 10% of the training as validation, and use at least the provided check_accuracy callback as an early stopping condition.\n",
    "\n",
    "Train nets for H ∈ {5, 25} and for N ∈ {5, 10, 15, 20}.  For each combination of H and N, run 10 replications of your simulation.  You will also need to try to find helpful learning rates; don't be surprised if your training is prone to cycles of stagnation for hundreds of epochs before quickly learning."
   ]
  },
  {
   "cell_type": "code",
   "execution_count": 23,
   "metadata": {
    "ExecuteTime": {
     "end_time": "2020-02-29T06:58:50.195285Z",
     "start_time": "2020-02-29T06:58:50.192462Z"
    },
    "code_folding": [],
    "colab": {},
    "colab_type": "code",
    "id": "wpOs5URgWsQK"
   },
   "outputs": [],
   "source": [
    "def train_model(model, x_train, y_train, batch_size, epochs, x_test, y_test,\n",
    "                early_termination_callback):\n",
    "    '''\n",
    "    Compiles and trains the :model:.\n",
    "    \n",
    "    return:\n",
    "    \n",
    "    test_accuracy (list): a list the length of epochs that contains the\n",
    "                          model's val_acc metric during each epoch of training\n",
    "    '''\n",
    "    # start by compiling the model; accuracy should be a tracked metric\n",
    "    # %%% TO DO %%%\n",
    "\n",
    "    # train model\n",
    "    # %%% TO DO %%%"
   ]
  },
  {
   "cell_type": "markdown",
   "metadata": {},
   "source": [
    "Now, we need to define a function to take all of our model / training parameter exploration ranges and:\n",
    "\n",
    "* perform multiple experiments per parameter combination\n",
    "* train the desired RNN model using different combination parameters for each experiment \n",
    "* collect and return the test set accuracy the model using each set of parameter pairs for each experiment"
   ]
  },
  {
   "cell_type": "code",
   "execution_count": 53,
   "metadata": {
    "ExecuteTime": {
     "end_time": "2020-02-29T07:55:16.438327Z",
     "start_time": "2020-02-29T07:55:16.432075Z"
    },
    "colab": {},
    "colab_type": "code",
    "id": "jmLQlzRNfiUJ"
   },
   "outputs": [],
   "source": [
    "def study_rnn_performance(model_builder, Hs, Ns, early_termination_callback,\n",
    "                          REPS=10, SAMPLES=10000, BATCH=1000, MAX_EPOCHS=2000):\n",
    "\n",
    "    test_accs = np.zeros([len(Hs), len(Ns), REPS])\n",
    "    for Nindex, N in enumerate(Ns):\n",
    "        for rep in range(REPS):\n",
    "\n",
    "            # (data is reusable across changes to the number of hidden units)\n",
    "            # generate a random training set of SAMPLES examples of length N\n",
    "            x = gen_binary_sequences(num=SAMPLES, length=int(2 * N))\n",
    "            y = calc_parity(x)\n",
    "            x_train, x_test, y_train, y_test = train_test_split(x, y,\n",
    "                                                                test_size=N)\n",
    "\n",
    "            for Hindex, H in enumerate(Hs):\n",
    "                print(f\"starting N={N}, H={H}, rep {rep + 1} / {REPS}\")\n",
    "\n",
    "                # build model\n",
    "                model = model_builder(N, H)\n",
    "\n",
    "                # train model\n",
    "                test_acc = train_model(model, x_train, y_train,\n",
    "                    batch_size=BATCH,\n",
    "                    epochs=MAX_EPOCHS,\n",
    "                    x_test=x_test,\n",
    "                    y_test=y_test,\n",
    "                    early_termination_callback=early_termination_callback)\n",
    "\n",
    "                # save for plotting later\n",
    "                test_accs[Hindex, Nindex, rep] = test_acc\n",
    "                \n",
    "        return test_accs"
   ]
  },
  {
   "cell_type": "markdown",
   "metadata": {},
   "source": [
    "For this part, we will explore a range of sequence lengths and number of hidden units in the RNN."
   ]
  },
  {
   "cell_type": "code",
   "execution_count": null,
   "metadata": {},
   "outputs": [],
   "source": [
    "Hs = [5, 25]\n",
    "Ns = [5] # switch to [5, 10, 20, 40] when things are working\n",
    "check_accuracy = create_accuracy_callback()\n",
    "\n",
    "test_accs = study_rnn_performance(build_tanh_model, Hs, Ns,\n",
    "                                  early_termination_callback=check_accuracy)"
   ]
  },
  {
   "cell_type": "markdown",
   "metadata": {
    "colab_type": "text",
    "id": "u4RbGJEbexGV"
   },
   "source": [
    "**Part 1.c**<br>\n",
    "Make the graph of mean % correct (and standard error) on the test set for the different values of H and N."
   ]
  },
  {
   "cell_type": "code",
   "execution_count": 0,
   "metadata": {
    "colab": {},
    "colab_type": "code",
    "id": "_ew6HWSpkpeW"
   },
   "outputs": [],
   "source": [
    "plot_accuracies(test_accs, Ns, Hs)"
   ]
  },
  {
   "cell_type": "markdown",
   "metadata": {
    "colab_type": "text",
    "id": "Ku9WKNAafXnj"
   },
   "source": [
    "## Part 2\n",
    "Repeat the experiments of Part 1, but use LSTM neurons instead of tanh neurons in the recurrent layer.  Comment on your experiences."
   ]
  },
  {
   "cell_type": "markdown",
   "metadata": {
    "colab_type": "text",
    "id": "GU7uynCutpJ7"
   },
   "source": []
  }
 ],
 "metadata": {
  "accelerator": "GPU",
  "colab": {
   "collapsed_sections": [],
   "name": "2020_assignment_3.ipynb",
   "provenance": [],
   "toc_visible": true
  },
  "kernelspec": {
   "display_name": "Python 3",
   "language": "python",
   "name": "python3"
  },
  "language_info": {
   "codemirror_mode": {
    "name": "ipython",
    "version": 3
   },
   "file_extension": ".py",
   "mimetype": "text/x-python",
   "name": "python",
   "nbconvert_exporter": "python",
   "pygments_lexer": "ipython3",
   "version": "3.7.6"
  },
  "latex_envs": {
   "LaTeX_envs_menu_present": true,
   "autoclose": false,
   "autocomplete": true,
   "bibliofile": "biblio.bib",
   "cite_by": "apalike",
   "current_citInitial": 1,
   "eqLabelWithNumbers": true,
   "eqNumInitial": 1,
   "hotkeys": {
    "equation": "pagedown,pageup,pagedown,pageup,pagedown,pageup,pagedown,pageup"
   },
   "labels_anchors": false,
   "latex_user_defs": false,
   "report_style_numbering": false,
   "user_envs_cfg": false
  },
  "varInspector": {
   "cols": {
    "lenName": 16,
    "lenType": 16,
    "lenVar": 40
   },
   "kernels_config": {
    "python": {
     "delete_cmd_postfix": "",
     "delete_cmd_prefix": "del ",
     "library": "var_list.py",
     "varRefreshCmd": "print(var_dic_list())"
    },
    "r": {
     "delete_cmd_postfix": ") ",
     "delete_cmd_prefix": "rm(",
     "library": "var_list.r",
     "varRefreshCmd": "cat(var_dic_list()) "
    }
   },
   "types_to_exclude": [
    "module",
    "function",
    "builtin_function_or_method",
    "instance",
    "_Feature"
   ],
   "window_display": false
  }
 },
 "nbformat": 4,
 "nbformat_minor": 1
}
